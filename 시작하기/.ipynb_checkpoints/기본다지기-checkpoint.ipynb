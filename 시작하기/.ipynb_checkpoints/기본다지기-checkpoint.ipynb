{
 "cells": [
  {
   "cell_type": "markdown",
   "id": "174ccdf2",
   "metadata": {},
   "source": [
    "# 파일 읽어오기"
   ]
  },
  {
   "cell_type": "markdown",
   "id": "8405c464",
   "metadata": {},
   "source": [
    "train, test파일 존재 여부 확인 후 zip파일 다운로드"
   ]
  },
  {
   "cell_type": "code",
   "execution_count": 1,
   "id": "e0f9776b",
   "metadata": {},
   "outputs": [],
   "source": [
    "import os.path\n",
    "\n",
    "url = \"https://bit.ly/3gLj0Q6\"    #파일 다운로드 링크\n",
    "download_file_name = url.split(\"/\")[-1] + \".zip\"\n",
    "\n",
    "#데이터 파일 존재 여부\n",
    "if not os.path.exists(\"./train.csv\") and not os.path.exists(\"./test.csv\"):\n",
    "    try:\n",
    "        import wget\n",
    "    except:\n",
    "        !pip install wget\n",
    "        print(\"install wget\")\n",
    "        import wget    \n",
    "    print(\"import wget\")    \n",
    "    \n",
    "    if not os.path.exists(\"./\" + download_file_name + \".zip\"):\n",
    "        wget.download(url, download_file_name + \".zip\")\n",
    "        print(\"\\nfile download\")\n",
    "        \n",
    "    import zipfile\n",
    "    with zipfile.ZipFile(download_file_name + \".zip\", \"r\") as existing_zip: #해당 파일(여기는 zip 내용물 전부 읽는다)\n",
    "        existing_zip.extractall(\"./\")  #해당 위치에 압축 해제\n",
    "    \n",
    "if os.path.exists(\"./\" + download_file_name + \".zip\"):\n",
    "    os.remove(\"./\" + download_file_name + \".zip\")"
   ]
  },
  {
   "cell_type": "markdown",
   "id": "7a5e2f16",
   "metadata": {},
   "source": [
    "판다스 import"
   ]
  },
  {
   "cell_type": "code",
   "execution_count": 2,
   "id": "c7ec3e08",
   "metadata": {},
   "outputs": [],
   "source": [
    "import pandas as pd"
   ]
  },
  {
   "cell_type": "markdown",
   "id": "023932f2",
   "metadata": {},
   "source": [
    "학습 csv파일 읽어오기"
   ]
  },
  {
   "cell_type": "code",
   "execution_count": 3,
   "id": "168e9488",
   "metadata": {
    "scrolled": true
   },
   "outputs": [
    {
     "data": {
      "text/html": [
       "<div>\n",
       "<style scoped>\n",
       "    .dataframe tbody tr th:only-of-type {\n",
       "        vertical-align: middle;\n",
       "    }\n",
       "\n",
       "    .dataframe tbody tr th {\n",
       "        vertical-align: top;\n",
       "    }\n",
       "\n",
       "    .dataframe thead th {\n",
       "        text-align: right;\n",
       "    }\n",
       "</style>\n",
       "<table border=\"1\" class=\"dataframe\">\n",
       "  <thead>\n",
       "    <tr style=\"text-align: right;\">\n",
       "      <th></th>\n",
       "      <th>id</th>\n",
       "      <th>hour</th>\n",
       "      <th>hour_bef_temperature</th>\n",
       "      <th>hour_bef_precipitation</th>\n",
       "      <th>hour_bef_windspeed</th>\n",
       "      <th>hour_bef_humidity</th>\n",
       "      <th>hour_bef_visibility</th>\n",
       "      <th>hour_bef_ozone</th>\n",
       "      <th>hour_bef_pm10</th>\n",
       "      <th>hour_bef_pm2.5</th>\n",
       "      <th>count</th>\n",
       "    </tr>\n",
       "  </thead>\n",
       "  <tbody>\n",
       "    <tr>\n",
       "      <th>0</th>\n",
       "      <td>3</td>\n",
       "      <td>20</td>\n",
       "      <td>16.3</td>\n",
       "      <td>1.0</td>\n",
       "      <td>1.5</td>\n",
       "      <td>89.0</td>\n",
       "      <td>576.0</td>\n",
       "      <td>0.027</td>\n",
       "      <td>76.0</td>\n",
       "      <td>33.0</td>\n",
       "      <td>49.0</td>\n",
       "    </tr>\n",
       "    <tr>\n",
       "      <th>1</th>\n",
       "      <td>6</td>\n",
       "      <td>13</td>\n",
       "      <td>20.1</td>\n",
       "      <td>0.0</td>\n",
       "      <td>1.4</td>\n",
       "      <td>48.0</td>\n",
       "      <td>916.0</td>\n",
       "      <td>0.042</td>\n",
       "      <td>73.0</td>\n",
       "      <td>40.0</td>\n",
       "      <td>159.0</td>\n",
       "    </tr>\n",
       "    <tr>\n",
       "      <th>2</th>\n",
       "      <td>7</td>\n",
       "      <td>6</td>\n",
       "      <td>13.9</td>\n",
       "      <td>0.0</td>\n",
       "      <td>0.7</td>\n",
       "      <td>79.0</td>\n",
       "      <td>1382.0</td>\n",
       "      <td>0.033</td>\n",
       "      <td>32.0</td>\n",
       "      <td>19.0</td>\n",
       "      <td>26.0</td>\n",
       "    </tr>\n",
       "    <tr>\n",
       "      <th>3</th>\n",
       "      <td>8</td>\n",
       "      <td>23</td>\n",
       "      <td>8.1</td>\n",
       "      <td>0.0</td>\n",
       "      <td>2.7</td>\n",
       "      <td>54.0</td>\n",
       "      <td>946.0</td>\n",
       "      <td>0.040</td>\n",
       "      <td>75.0</td>\n",
       "      <td>64.0</td>\n",
       "      <td>57.0</td>\n",
       "    </tr>\n",
       "    <tr>\n",
       "      <th>4</th>\n",
       "      <td>9</td>\n",
       "      <td>18</td>\n",
       "      <td>29.5</td>\n",
       "      <td>0.0</td>\n",
       "      <td>4.8</td>\n",
       "      <td>7.0</td>\n",
       "      <td>2000.0</td>\n",
       "      <td>0.057</td>\n",
       "      <td>27.0</td>\n",
       "      <td>11.0</td>\n",
       "      <td>431.0</td>\n",
       "    </tr>\n",
       "  </tbody>\n",
       "</table>\n",
       "</div>"
      ],
      "text/plain": [
       "   id  hour  hour_bef_temperature  hour_bef_precipitation  hour_bef_windspeed  \\\n",
       "0   3    20                  16.3                     1.0                 1.5   \n",
       "1   6    13                  20.1                     0.0                 1.4   \n",
       "2   7     6                  13.9                     0.0                 0.7   \n",
       "3   8    23                   8.1                     0.0                 2.7   \n",
       "4   9    18                  29.5                     0.0                 4.8   \n",
       "\n",
       "   hour_bef_humidity  hour_bef_visibility  hour_bef_ozone  hour_bef_pm10  \\\n",
       "0               89.0                576.0           0.027           76.0   \n",
       "1               48.0                916.0           0.042           73.0   \n",
       "2               79.0               1382.0           0.033           32.0   \n",
       "3               54.0                946.0           0.040           75.0   \n",
       "4                7.0               2000.0           0.057           27.0   \n",
       "\n",
       "   hour_bef_pm2.5  count  \n",
       "0            33.0   49.0  \n",
       "1            40.0  159.0  \n",
       "2            19.0   26.0  \n",
       "3            64.0   57.0  \n",
       "4            11.0  431.0  "
      ]
     },
     "execution_count": 3,
     "metadata": {},
     "output_type": "execute_result"
    }
   ],
   "source": [
    "train = pd.read_csv(\"./train.csv\")\n",
    "train.head()"
   ]
  },
  {
   "cell_type": "markdown",
   "id": "a5e5a803",
   "metadata": {},
   "source": [
    "테스트 데이터 읽어오기"
   ]
  },
  {
   "cell_type": "code",
   "execution_count": 4,
   "id": "574678e0",
   "metadata": {},
   "outputs": [
    {
     "data": {
      "text/html": [
       "<div>\n",
       "<style scoped>\n",
       "    .dataframe tbody tr th:only-of-type {\n",
       "        vertical-align: middle;\n",
       "    }\n",
       "\n",
       "    .dataframe tbody tr th {\n",
       "        vertical-align: top;\n",
       "    }\n",
       "\n",
       "    .dataframe thead th {\n",
       "        text-align: right;\n",
       "    }\n",
       "</style>\n",
       "<table border=\"1\" class=\"dataframe\">\n",
       "  <thead>\n",
       "    <tr style=\"text-align: right;\">\n",
       "      <th></th>\n",
       "      <th>id</th>\n",
       "      <th>hour</th>\n",
       "      <th>hour_bef_temperature</th>\n",
       "      <th>hour_bef_precipitation</th>\n",
       "      <th>hour_bef_windspeed</th>\n",
       "      <th>hour_bef_humidity</th>\n",
       "      <th>hour_bef_visibility</th>\n",
       "      <th>hour_bef_ozone</th>\n",
       "      <th>hour_bef_pm10</th>\n",
       "      <th>hour_bef_pm2.5</th>\n",
       "    </tr>\n",
       "  </thead>\n",
       "  <tbody>\n",
       "    <tr>\n",
       "      <th>0</th>\n",
       "      <td>0</td>\n",
       "      <td>7</td>\n",
       "      <td>20.7</td>\n",
       "      <td>0.0</td>\n",
       "      <td>1.3</td>\n",
       "      <td>62.0</td>\n",
       "      <td>954.0</td>\n",
       "      <td>0.041</td>\n",
       "      <td>44.0</td>\n",
       "      <td>27.0</td>\n",
       "    </tr>\n",
       "    <tr>\n",
       "      <th>1</th>\n",
       "      <td>1</td>\n",
       "      <td>17</td>\n",
       "      <td>30.0</td>\n",
       "      <td>0.0</td>\n",
       "      <td>5.4</td>\n",
       "      <td>33.0</td>\n",
       "      <td>1590.0</td>\n",
       "      <td>0.061</td>\n",
       "      <td>49.0</td>\n",
       "      <td>36.0</td>\n",
       "    </tr>\n",
       "    <tr>\n",
       "      <th>2</th>\n",
       "      <td>2</td>\n",
       "      <td>13</td>\n",
       "      <td>19.0</td>\n",
       "      <td>1.0</td>\n",
       "      <td>2.1</td>\n",
       "      <td>95.0</td>\n",
       "      <td>193.0</td>\n",
       "      <td>0.020</td>\n",
       "      <td>36.0</td>\n",
       "      <td>28.0</td>\n",
       "    </tr>\n",
       "    <tr>\n",
       "      <th>3</th>\n",
       "      <td>4</td>\n",
       "      <td>6</td>\n",
       "      <td>22.5</td>\n",
       "      <td>0.0</td>\n",
       "      <td>2.5</td>\n",
       "      <td>60.0</td>\n",
       "      <td>1185.0</td>\n",
       "      <td>0.027</td>\n",
       "      <td>52.0</td>\n",
       "      <td>38.0</td>\n",
       "    </tr>\n",
       "    <tr>\n",
       "      <th>4</th>\n",
       "      <td>5</td>\n",
       "      <td>22</td>\n",
       "      <td>14.6</td>\n",
       "      <td>1.0</td>\n",
       "      <td>3.4</td>\n",
       "      <td>93.0</td>\n",
       "      <td>218.0</td>\n",
       "      <td>0.041</td>\n",
       "      <td>18.0</td>\n",
       "      <td>15.0</td>\n",
       "    </tr>\n",
       "  </tbody>\n",
       "</table>\n",
       "</div>"
      ],
      "text/plain": [
       "   id  hour  hour_bef_temperature  hour_bef_precipitation  hour_bef_windspeed  \\\n",
       "0   0     7                  20.7                     0.0                 1.3   \n",
       "1   1    17                  30.0                     0.0                 5.4   \n",
       "2   2    13                  19.0                     1.0                 2.1   \n",
       "3   4     6                  22.5                     0.0                 2.5   \n",
       "4   5    22                  14.6                     1.0                 3.4   \n",
       "\n",
       "   hour_bef_humidity  hour_bef_visibility  hour_bef_ozone  hour_bef_pm10  \\\n",
       "0               62.0                954.0           0.041           44.0   \n",
       "1               33.0               1590.0           0.061           49.0   \n",
       "2               95.0                193.0           0.020           36.0   \n",
       "3               60.0               1185.0           0.027           52.0   \n",
       "4               93.0                218.0           0.041           18.0   \n",
       "\n",
       "   hour_bef_pm2.5  \n",
       "0            27.0  \n",
       "1            36.0  \n",
       "2            28.0  \n",
       "3            38.0  \n",
       "4            15.0  "
      ]
     },
     "execution_count": 4,
     "metadata": {},
     "output_type": "execute_result"
    }
   ],
   "source": [
    "test = pd.read_csv(\"./test.csv\")\n",
    "test.head()"
   ]
  },
  {
   "cell_type": "markdown",
   "id": "f7517d08",
   "metadata": {},
   "source": [
    "# 전처리 과정(결측치(NaN) 대체)\n",
    "#### 전처리는 아래의 방법중 하나를 택해서 진행해야함"
   ]
  },
  {
   "cell_type": "markdown",
   "id": "f0b589d9",
   "metadata": {},
   "source": [
    "### 1. NaN값 포함 row 제거\n",
    "#### dropna(null)"
   ]
  },
  {
   "cell_type": "code",
   "execution_count": 28,
   "id": "44c20d38",
   "metadata": {},
   "outputs": [],
   "source": [
    "train = train.dropna()\n",
    "test = test.dropna()\n",
    "#model 학습 이후 결과값을 submmision과 row length 불일치로 에러가 발생할 수 있으니 참고"
   ]
  },
  {
   "cell_type": "markdown",
   "id": "0ae61cec",
   "metadata": {},
   "source": [
    "### 2. NaN 데이터 값 변경\n",
    "#### fillna(num)\n"
   ]
  },
  {
   "cell_type": "code",
   "execution_count": 10,
   "id": "637db8cb",
   "metadata": {},
   "outputs": [],
   "source": [
    "train = test.fillna(0)\n",
    "test = test.fillna(0)"
   ]
  },
  {
   "cell_type": "markdown",
   "id": "c25312ee",
   "metadata": {},
   "source": [
    "### 3. 평균값으로 채우기\n",
    "#### fillna({column_name:dataType(df[column_name].mean())}, inplace = True)"
   ]
  },
  {
   "cell_type": "code",
   "execution_count": 5,
   "id": "7a0fe892",
   "metadata": {},
   "outputs": [],
   "source": [
    "train_column_name = list(train)\n",
    "for name in train_column_name[2:-1]:\n",
    "    train.fillna({name:int(train[name].mean())}, inplace=True)"
   ]
  },
  {
   "cell_type": "code",
   "execution_count": 6,
   "id": "1aac0896",
   "metadata": {},
   "outputs": [],
   "source": [
    "test_column_name = list(test)\n",
    "for name in test_column_name[2:]:\n",
    "    test.fillna({name:int(test[name].mean())}, inplace=True)"
   ]
  },
  {
   "cell_type": "markdown",
   "id": "6784b9ef",
   "metadata": {},
   "source": [
    "### 4. 보간법\n",
    "#### NaN의 이전 row와 다음 row값의 평균으로 대체 mean(df[n-1], df[n+1])\n",
    "#### df.interpolate(inplace=True)"
   ]
  },
  {
   "cell_type": "code",
   "execution_count": 5,
   "id": "14f23761",
   "metadata": {},
   "outputs": [
    {
     "data": {
      "text/plain": [
       "(1459, 11)"
      ]
     },
     "execution_count": 5,
     "metadata": {},
     "output_type": "execute_result"
    }
   ],
   "source": [
    "train = train.interpolate(implace = True)\n",
    "train.isnull().sum()\n",
    "train.shape"
   ]
  },
  {
   "cell_type": "code",
   "execution_count": 6,
   "id": "9db35a71",
   "metadata": {},
   "outputs": [
    {
     "data": {
      "text/plain": [
       "(715, 10)"
      ]
     },
     "execution_count": 6,
     "metadata": {},
     "output_type": "execute_result"
    }
   ],
   "source": [
    "test = test.interpolate(implace = True)\n",
    "test.isnull().sum()\n",
    "test.shape"
   ]
  },
  {
   "cell_type": "markdown",
   "id": "4b71311d",
   "metadata": {},
   "source": [
    "# 모델링"
   ]
  },
  {
   "attachments": {
    "image.png": {
     "image/png": "[encoded data removed]"
    }
   },
   "cell_type": "markdown",
   "id": "d8c0b0ee",
   "metadata": {},
   "source": [
    "## 2. 모델개념(DesisionTree)\n",
    "=:스무고개 방식의 구조화(\"한쪽 방향으로 쏠리도록\" 이 목적)\n",
    "![image.png](attachment:image.png)"
   ]
  },
  {
   "cell_type": "markdown",
   "id": "11329247",
   "metadata": {},
   "source": [
    "## 1. scikit-learn(lib)\n",
    "참조 https://scikit-learn.org/stable/"
   ]
  },
  {
   "cell_type": "code",
   "execution_count": 46,
   "id": "5cf1626a",
   "metadata": {},
   "outputs": [],
   "source": [
    "import sklearn"
   ]
  },
  {
   "cell_type": "markdown",
   "id": "5322aa6d",
   "metadata": {},
   "source": [
    "의사결정분류"
   ]
  },
  {
   "cell_type": "code",
   "execution_count": 47,
   "id": "78dd8398",
   "metadata": {},
   "outputs": [],
   "source": [
    "from sklearn.tree import DecisionTreeClassifier\n",
    "model = DecisionTreeClassifier()"
   ]
  },
  {
   "cell_type": "markdown",
   "id": "8172fe72",
   "metadata": {},
   "source": [
    "의사결정회귀"
   ]
  },
  {
   "cell_type": "code",
   "execution_count": null,
   "id": "0e946307",
   "metadata": {},
   "outputs": [],
   "source": [
    "from sklearn.tree import DecisionTreeRegressor\n",
    "model = DecisionTreeRegressor()"
   ]
  },
  {
   "attachments": {},
   "cell_type": "markdown",
   "id": "939f3379",
   "metadata": {},
   "source": [
    "평가척도에 맞게 학습(deafult는 mse로 될것이다)<br>\n",
    "$$ MSE = \\frac{1}{N} \\sum_{i=1}^N ({y_i - \\hat{y}_i})^2 $$ <br>\n",
    "$$ RMSE = \\sqrt{MSE} $$<br>\n"
   ]
  },
  {
   "cell_type": "code",
   "execution_count": 10,
   "id": "f8fcabb8",
   "metadata": {},
   "outputs": [],
   "source": [
    "from sklearn.ensemble import RandomForestRegressor\n",
    "model = RandomForestRegressor(criterion = \"mse\")"
   ]
  },
  {
   "cell_type": "markdown",
   "id": "0d6e7ee3",
   "metadata": {},
   "source": [
    "## 3 모델 훈련\n",
    "X 데이터는 trian data에서 drop([\"제외할 칼럼명\"], axis=1)를 이용해 예측할 feature를 제외할 수 있습니다\n",
    "Y 데이터는 trian[\"예측 칼럼명\"] 으로 인덱싱할 수 있습니다."
   ]
  },
  {
   "cell_type": "markdown",
   "id": "d648d7bb",
   "metadata": {},
   "source": [
    "X_train은 input Y_train은 output으로 사용"
   ]
  },
  {
   "cell_type": "code",
   "execution_count": 8,
   "id": "a7276db1",
   "metadata": {},
   "outputs": [],
   "source": [
    "X_train = train.drop([\"count\"], axis = 1)\n",
    "Y_train = train[\"count\"]"
   ]
  },
  {
   "cell_type": "code",
   "execution_count": 11,
   "id": "30b3f9b5",
   "metadata": {},
   "outputs": [
    {
     "data": {
      "text/plain": [
       "RandomForestRegressor()"
      ]
     },
     "execution_count": 11,
     "metadata": {},
     "output_type": "execute_result"
    }
   ],
   "source": [
    "model.fit(X_train, Y_train)"
   ]
  },
  {
   "cell_type": "markdown",
   "id": "0d94240e",
   "metadata": {},
   "source": [
    "## 4 예측하기\n",
    "훈련된 모델에서 predict()에 예측하고자 하는 data를 인자로 넣어주게 되면 해당 결과를 array에 할당 가능"
   ]
  },
  {
   "cell_type": "code",
   "execution_count": 12,
   "id": "d42b3ac8",
   "metadata": {},
   "outputs": [],
   "source": [
    "pred = model.predict(test)"
   ]
  },
  {
   "cell_type": "markdown",
   "id": "0a69c02d",
   "metadata": {},
   "source": [
    "## 5 예측한 결과 내보내기"
   ]
  },
  {
   "cell_type": "markdown",
   "id": "b40747b4",
   "metadata": {},
   "source": [
    "파일 불러오기"
   ]
  },
  {
   "cell_type": "code",
   "execution_count": 7,
   "id": "66f7d916",
   "metadata": {},
   "outputs": [],
   "source": [
    "submission = pd.read_csv(\"./submission.csv\")"
   ]
  },
  {
   "cell_type": "markdown",
   "id": "c397234e",
   "metadata": {},
   "source": [
    "submission 파일의 count 피쳐에 예측결과 할당하기"
   ]
  },
  {
   "cell_type": "code",
   "execution_count": 8,
   "id": "de70fa8b",
   "metadata": {},
   "outputs": [],
   "source": [
    "submission['count'] = pred"
   ]
  },
  {
   "cell_type": "code",
   "execution_count": 9,
   "id": "2462fe96",
   "metadata": {},
   "outputs": [],
   "source": [
    "submission.to_csv('sub.csv', index=False)"
   ]
  }
 ],
 "metadata": {
  "kernelspec": {
   "display_name": "Python 3 (ipykernel)",
   "language": "python",
   "name": "python3"
  },
  "language_info": {
   "codemirror_mode": {
    "name": "ipython",
    "version": 3
   },
   "file_extension": ".py",
   "mimetype": "text/x-python",
   "name": "python",
   "nbconvert_exporter": "python",
   "pygments_lexer": "ipython3",
   "version": "3.9.7"
  }
 },
 "nbformat": 4,
 "nbformat_minor": 5
}
